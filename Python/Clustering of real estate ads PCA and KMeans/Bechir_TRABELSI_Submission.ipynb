{
  "nbformat": 4,
  "nbformat_minor": 0,
  "metadata": {
    "colab": {
      "name": "Mohamed_MKAOUAR_Submission_.ipynb",
      "provenance": [],
      "collapsed_sections": [],
      "toc_visible": true
    },
    "kernelspec": {
      "display_name": "Python 3",
      "language": "python",
      "name": "python3"
    },
    "language_info": {
      "codemirror_mode": {
        "name": "ipython",
        "version": 3
      },
      "file_extension": ".py",
      "mimetype": "text/x-python",
      "name": "python",
      "nbconvert_exporter": "python",
      "pygments_lexer": "ipython3",
      "version": "3.7.9"
    }
  },
  "cells": [
    {
      "cell_type": "markdown",
      "metadata": {
        "id": "9-hTwbucKZgF"
      },
      "source": [
        "# **TRABELSI BECHIR SUBMISSION FOR TECHNICAL TEST **\n",
        "**M2 DATA SCIENCE ECOLE POLYTECHNIQUE/INSTITUT POLYTECHNIQUE DE PARIS**\n"
      ]
    },
    {
      "cell_type": "markdown",
      "metadata": {
        "id": "tBsCbECX5of4"
      },
      "source": [
        "**This notebook will be in english for accessibility puroposes**. \n",
        "\n",
        "Let us start by importing some libraries that we'll use"
      ]
    },
    {
      "cell_type": "code",
      "metadata": {
        "id": "y8Hj4NF55lG2"
      },
      "source": [
        "import pandas as pd \n",
        "from sklearn.decomposition import PCA \n",
        "from sklearn.pipeline import make_pipeline\n",
        "from sklearn.impute import SimpleImputer\n",
        "from sklearn.cluster import KMeans\n",
        "import matplotlib.pyplot as plt\n",
        "import numpy as np\n",
        "import seaborn as sns\n",
        "from sklearn.preprocessing import normalize,StandardScaler\n"
      ],
      "execution_count": 2,
      "outputs": []
    },
    {
      "cell_type": "markdown",
      "metadata": {
        "id": "79vvuE8Z5nOR"
      },
      "source": [
        ""
      ]
    },
    {
      "cell_type": "markdown",
      "metadata": {
        "id": "ufWgGu9S6Q2v"
      },
      "source": [
        "Now we load our data "
      ]
    },
    {
      "cell_type": "code",
      "metadata": {
        "id": "cdqwTWgs6T8K"
      },
      "source": [
        "df = pd.read_csv(\"https://github.com/BechirTr/Some_Projects/raw/main/Dataset.csv\", sep=\",\")"
      ],
      "execution_count": 3,
      "outputs": []
    },
    {
      "cell_type": "code",
      "metadata": {
        "colab": {
          "base_uri": "https://localhost:8080/",
          "height": 518
        },
        "id": "5bgDuKjF83jP",
        "outputId": "8a583520-5caf-4770-c083-7108f78cbccd"
      },
      "source": [
        "df.head()"
      ],
      "execution_count": 4,
      "outputs": [
        {
          "output_type": "execute_result",
          "data": {
            "text/html": [
              "<div>\n",
              "<style scoped>\n",
              "    .dataframe tbody tr th:only-of-type {\n",
              "        vertical-align: middle;\n",
              "    }\n",
              "\n",
              "    .dataframe tbody tr th {\n",
              "        vertical-align: top;\n",
              "    }\n",
              "\n",
              "    .dataframe thead th {\n",
              "        text-align: right;\n",
              "    }\n",
              "</style>\n",
              "<table border=\"1\" class=\"dataframe\">\n",
              "  <thead>\n",
              "    <tr style=\"text-align: right;\">\n",
              "      <th></th>\n",
              "      <th>ID</th>\n",
              "      <th>URL</th>\n",
              "      <th>CRAWL_SOURCE</th>\n",
              "      <th>PROPERTY_TYPE</th>\n",
              "      <th>NEW_BUILD</th>\n",
              "      <th>DESCRIPTION</th>\n",
              "      <th>IMAGES</th>\n",
              "      <th>SURFACE</th>\n",
              "      <th>LAND_SURFACE</th>\n",
              "      <th>BALCONY_SURFACE</th>\n",
              "      <th>TERRACE_SURFACE</th>\n",
              "      <th>ROOM_COUNT</th>\n",
              "      <th>BEDROOM_COUNT</th>\n",
              "      <th>BATHROOM_COUNT</th>\n",
              "      <th>LUNCHROOM_COUNT</th>\n",
              "      <th>TOILET_COUNT</th>\n",
              "      <th>FURNISHED</th>\n",
              "      <th>FIREPLACE</th>\n",
              "      <th>AIR_CONDITIONING</th>\n",
              "      <th>GARDEN</th>\n",
              "      <th>SWIMMING_POOL</th>\n",
              "      <th>BALCONY</th>\n",
              "      <th>TERRACE</th>\n",
              "      <th>CELLAR</th>\n",
              "      <th>PARKING</th>\n",
              "      <th>PARKING_COUNT</th>\n",
              "      <th>HEATING_TYPES</th>\n",
              "      <th>HEATING_MODE</th>\n",
              "      <th>FLOOR</th>\n",
              "      <th>FLOOR_COUNT</th>\n",
              "      <th>CONSTRUCTION_YEAR</th>\n",
              "      <th>ELEVATOR</th>\n",
              "      <th>CARETAKER</th>\n",
              "      <th>ENERGY_CONSUMPTION</th>\n",
              "      <th>GREENHOUSE_GAS_CONSUMPTION</th>\n",
              "      <th>MARKETING_TYPE</th>\n",
              "      <th>PRICE</th>\n",
              "      <th>PRICE_M2</th>\n",
              "      <th>PRICE_EVENTS</th>\n",
              "      <th>RENTAL_EXPENSES</th>\n",
              "      <th>RENTAL_EXPENSES_INCLUDED</th>\n",
              "      <th>DEPOSIT</th>\n",
              "      <th>FEES</th>\n",
              "      <th>FEES_INCLUDED</th>\n",
              "      <th>EXCLUSIVE_MANDATE</th>\n",
              "      <th>AGENCIES_UNWANTED</th>\n",
              "      <th>OCCUPIED</th>\n",
              "      <th>DEALER_NAME</th>\n",
              "      <th>DEALER_TYPE</th>\n",
              "      <th>CITY_ID</th>\n",
              "      <th>CITY</th>\n",
              "      <th>ZIP_CODE</th>\n",
              "      <th>DEPT_CODE</th>\n",
              "      <th>PUBLICATION_START_DATE</th>\n",
              "      <th>PUBLICATION_END_DATE</th>\n",
              "      <th>LAST_CRAWL_DATE</th>\n",
              "      <th>LAST_PRICE_DECREASE_DATE</th>\n",
              "    </tr>\n",
              "  </thead>\n",
              "  <tbody>\n",
              "    <tr>\n",
              "      <th>0</th>\n",
              "      <td>22c05930-0eb5-11e7-b53d-bbead8ba43fe</td>\n",
              "      <td>http://www.avendrealouer.fr/location/levallois...</td>\n",
              "      <td>A_VENDRE_A_LOUER</td>\n",
              "      <td>APARTMENT</td>\n",
              "      <td>False</td>\n",
              "      <td>Au rez de chaussée d'un bel immeuble récent,ap...</td>\n",
              "      <td>[\"https://cf-medias.avendrealouer.fr/image/_87...</td>\n",
              "      <td>72.0</td>\n",
              "      <td>NaN</td>\n",
              "      <td>NaN</td>\n",
              "      <td>NaN</td>\n",
              "      <td>3.0</td>\n",
              "      <td>NaN</td>\n",
              "      <td>NaN</td>\n",
              "      <td>NaN</td>\n",
              "      <td>NaN</td>\n",
              "      <td>False</td>\n",
              "      <td>NaN</td>\n",
              "      <td>NaN</td>\n",
              "      <td>NaN</td>\n",
              "      <td>NaN</td>\n",
              "      <td>NaN</td>\n",
              "      <td>NaN</td>\n",
              "      <td>NaN</td>\n",
              "      <td>True</td>\n",
              "      <td>1.0</td>\n",
              "      <td>[]</td>\n",
              "      <td>COLLECTIVE</td>\n",
              "      <td>NaN</td>\n",
              "      <td>NaN</td>\n",
              "      <td>NaN</td>\n",
              "      <td>True</td>\n",
              "      <td>NaN</td>\n",
              "      <td>NaN</td>\n",
              "      <td>NaN</td>\n",
              "      <td>RENT</td>\n",
              "      <td>1979.0</td>\n",
              "      <td>27.49</td>\n",
              "      <td>[{\"price\":1979,\"date\":\"2017-03-22\"}]</td>\n",
              "      <td>276.0</td>\n",
              "      <td>True</td>\n",
              "      <td>NaN</td>\n",
              "      <td>NaN</td>\n",
              "      <td>NaN</td>\n",
              "      <td>False</td>\n",
              "      <td>NaN</td>\n",
              "      <td>NaN</td>\n",
              "      <td>Lamirand Et Associes</td>\n",
              "      <td>AGENCY</td>\n",
              "      <td>54178039</td>\n",
              "      <td>Levallois-Perret</td>\n",
              "      <td>92300.0</td>\n",
              "      <td>92</td>\n",
              "      <td>2017-03-22T04:07:56.095</td>\n",
              "      <td>NaN</td>\n",
              "      <td>2017-04-21T18:52:35.733</td>\n",
              "      <td>NaN</td>\n",
              "    </tr>\n",
              "    <tr>\n",
              "      <th>1</th>\n",
              "      <td>8d092fa0-bb99-11e8-a7c9-852783b5a69d</td>\n",
              "      <td>https://www.bienici.com/annonce/ag440414-16547...</td>\n",
              "      <td>BIEN_ICI</td>\n",
              "      <td>APARTMENT</td>\n",
              "      <td>False</td>\n",
              "      <td>Je vous propose un appartement dans la rue Col...</td>\n",
              "      <td>[\"http://photos.ubiflow.net/440414/165474561/p...</td>\n",
              "      <td>48.0</td>\n",
              "      <td>NaN</td>\n",
              "      <td>NaN</td>\n",
              "      <td>NaN</td>\n",
              "      <td>2.0</td>\n",
              "      <td>1.0</td>\n",
              "      <td>NaN</td>\n",
              "      <td>NaN</td>\n",
              "      <td>NaN</td>\n",
              "      <td>NaN</td>\n",
              "      <td>NaN</td>\n",
              "      <td>NaN</td>\n",
              "      <td>1.0</td>\n",
              "      <td>NaN</td>\n",
              "      <td>NaN</td>\n",
              "      <td>NaN</td>\n",
              "      <td>NaN</td>\n",
              "      <td>False</td>\n",
              "      <td>NaN</td>\n",
              "      <td>[]</td>\n",
              "      <td>INDIVIDUAL</td>\n",
              "      <td>1.0</td>\n",
              "      <td>6.0</td>\n",
              "      <td>NaN</td>\n",
              "      <td>True</td>\n",
              "      <td>False</td>\n",
              "      <td>NaN</td>\n",
              "      <td>NaN</td>\n",
              "      <td>SALE</td>\n",
              "      <td>429000.0</td>\n",
              "      <td>8937.50</td>\n",
              "      <td>[{\"price\":452000.0,\"date\":\"2018-09-18\"},{\"pric...</td>\n",
              "      <td>NaN</td>\n",
              "      <td>NaN</td>\n",
              "      <td>NaN</td>\n",
              "      <td>NaN</td>\n",
              "      <td>False</td>\n",
              "      <td>False</td>\n",
              "      <td>NaN</td>\n",
              "      <td>False</td>\n",
              "      <td>Proprietes Privees</td>\n",
              "      <td>MANDATARY</td>\n",
              "      <td>54178039</td>\n",
              "      <td>Levallois-Perret</td>\n",
              "      <td>92300.0</td>\n",
              "      <td>92</td>\n",
              "      <td>2018-09-18T11:04:44.461</td>\n",
              "      <td>NaN</td>\n",
              "      <td>2019-06-06T10:08:10.89</td>\n",
              "      <td>2018-09-25</td>\n",
              "    </tr>\n",
              "    <tr>\n",
              "      <th>2</th>\n",
              "      <td>44b6a5c0-3466-11e9-8213-25cc7d9bf5fc</td>\n",
              "      <td>https://www.bellesdemeures.com/annonces/vente/...</td>\n",
              "      <td>BELLES_DEMEURES</td>\n",
              "      <td>APARTMENT</td>\n",
              "      <td>False</td>\n",
              "      <td>Dans un cadre arboré, calme et fleuri, un pent...</td>\n",
              "      <td>[\"https://v.seloger.com/s/width/965/visuels/0/...</td>\n",
              "      <td>267.0</td>\n",
              "      <td>NaN</td>\n",
              "      <td>NaN</td>\n",
              "      <td>NaN</td>\n",
              "      <td>6.0</td>\n",
              "      <td>NaN</td>\n",
              "      <td>NaN</td>\n",
              "      <td>NaN</td>\n",
              "      <td>NaN</td>\n",
              "      <td>NaN</td>\n",
              "      <td>NaN</td>\n",
              "      <td>NaN</td>\n",
              "      <td>NaN</td>\n",
              "      <td>NaN</td>\n",
              "      <td>NaN</td>\n",
              "      <td>NaN</td>\n",
              "      <td>NaN</td>\n",
              "      <td>False</td>\n",
              "      <td>NaN</td>\n",
              "      <td>[]</td>\n",
              "      <td>NaN</td>\n",
              "      <td>NaN</td>\n",
              "      <td>NaN</td>\n",
              "      <td>NaN</td>\n",
              "      <td>NaN</td>\n",
              "      <td>NaN</td>\n",
              "      <td>NaN</td>\n",
              "      <td>NaN</td>\n",
              "      <td>SALE</td>\n",
              "      <td>4970000.0</td>\n",
              "      <td>18614.23</td>\n",
              "      <td>[{\"price\":4970000.0,\"date\":\"2019-02-19\"}]</td>\n",
              "      <td>NaN</td>\n",
              "      <td>NaN</td>\n",
              "      <td>NaN</td>\n",
              "      <td>NaN</td>\n",
              "      <td>NaN</td>\n",
              "      <td>False</td>\n",
              "      <td>NaN</td>\n",
              "      <td>False</td>\n",
              "      <td>Propriétés Parisiennes</td>\n",
              "      <td>AGENCY</td>\n",
              "      <td>54178039</td>\n",
              "      <td>Levallois-Perret</td>\n",
              "      <td>92300.0</td>\n",
              "      <td>92</td>\n",
              "      <td>2019-02-19T16:49:03.547</td>\n",
              "      <td>NaN</td>\n",
              "      <td>2019-06-13T08:22:14.314</td>\n",
              "      <td>NaN</td>\n",
              "    </tr>\n",
              "    <tr>\n",
              "      <th>3</th>\n",
              "      <td>e9e07ed0-812f-11e8-82aa-61eacebe4584</td>\n",
              "      <td>https://www.seloger.com/annonces/locations/bur...</td>\n",
              "      <td>SE_LOGER</td>\n",
              "      <td>PREMISES</td>\n",
              "      <td>False</td>\n",
              "      <td>\"Le meilleur coworking flexible de la ville, 5...</td>\n",
              "      <td>[\"https://pix.yanport.com/ads/e9e07ed0-812f-11...</td>\n",
              "      <td>50.0</td>\n",
              "      <td>NaN</td>\n",
              "      <td>NaN</td>\n",
              "      <td>NaN</td>\n",
              "      <td>0.0</td>\n",
              "      <td>NaN</td>\n",
              "      <td>NaN</td>\n",
              "      <td>NaN</td>\n",
              "      <td>NaN</td>\n",
              "      <td>NaN</td>\n",
              "      <td>NaN</td>\n",
              "      <td>NaN</td>\n",
              "      <td>NaN</td>\n",
              "      <td>NaN</td>\n",
              "      <td>NaN</td>\n",
              "      <td>NaN</td>\n",
              "      <td>NaN</td>\n",
              "      <td>False</td>\n",
              "      <td>NaN</td>\n",
              "      <td>[]</td>\n",
              "      <td>NaN</td>\n",
              "      <td>NaN</td>\n",
              "      <td>NaN</td>\n",
              "      <td>NaN</td>\n",
              "      <td>NaN</td>\n",
              "      <td>NaN</td>\n",
              "      <td>NaN</td>\n",
              "      <td>NaN</td>\n",
              "      <td>RENT</td>\n",
              "      <td>89.0</td>\n",
              "      <td>1.78</td>\n",
              "      <td>[{\"price\":89.0,\"date\":\"2018-07-06\"}]</td>\n",
              "      <td>NaN</td>\n",
              "      <td>NaN</td>\n",
              "      <td>NaN</td>\n",
              "      <td>NaN</td>\n",
              "      <td>NaN</td>\n",
              "      <td>False</td>\n",
              "      <td>NaN</td>\n",
              "      <td>NaN</td>\n",
              "      <td>Iwg</td>\n",
              "      <td>AGENCY</td>\n",
              "      <td>54178039</td>\n",
              "      <td>Levallois-Perret</td>\n",
              "      <td>92300.0</td>\n",
              "      <td>92</td>\n",
              "      <td>2018-07-06T15:18:59.805</td>\n",
              "      <td>NaN</td>\n",
              "      <td>2019-06-18T10:40:07.405</td>\n",
              "      <td>NaN</td>\n",
              "    </tr>\n",
              "    <tr>\n",
              "      <th>4</th>\n",
              "      <td>872302b0-5a21-11e9-950c-510fefc1ed35</td>\n",
              "      <td>https://www.bellesdemeures.com/annonces/vente/...</td>\n",
              "      <td>BELLES_DEMEURES</td>\n",
              "      <td>HOUSE</td>\n",
              "      <td>False</td>\n",
              "      <td>Levallois - Parc de la Planchette A toute prox...</td>\n",
              "      <td>[\"https://v.seloger.com/s/width/966/visuels/0/...</td>\n",
              "      <td>330.0</td>\n",
              "      <td>NaN</td>\n",
              "      <td>NaN</td>\n",
              "      <td>NaN</td>\n",
              "      <td>8.0</td>\n",
              "      <td>NaN</td>\n",
              "      <td>NaN</td>\n",
              "      <td>NaN</td>\n",
              "      <td>NaN</td>\n",
              "      <td>NaN</td>\n",
              "      <td>NaN</td>\n",
              "      <td>NaN</td>\n",
              "      <td>NaN</td>\n",
              "      <td>NaN</td>\n",
              "      <td>NaN</td>\n",
              "      <td>NaN</td>\n",
              "      <td>NaN</td>\n",
              "      <td>False</td>\n",
              "      <td>NaN</td>\n",
              "      <td>[]</td>\n",
              "      <td>NaN</td>\n",
              "      <td>NaN</td>\n",
              "      <td>NaN</td>\n",
              "      <td>NaN</td>\n",
              "      <td>NaN</td>\n",
              "      <td>NaN</td>\n",
              "      <td>NaN</td>\n",
              "      <td>NaN</td>\n",
              "      <td>SALE</td>\n",
              "      <td>2790000.0</td>\n",
              "      <td>8454.55</td>\n",
              "      <td>[{\"price\":3150000.0,\"date\":\"2019-04-08\"},{\"pri...</td>\n",
              "      <td>NaN</td>\n",
              "      <td>NaN</td>\n",
              "      <td>NaN</td>\n",
              "      <td>NaN</td>\n",
              "      <td>NaN</td>\n",
              "      <td>False</td>\n",
              "      <td>NaN</td>\n",
              "      <td>False</td>\n",
              "      <td>Daniel Feau Neuilly</td>\n",
              "      <td>AGENCY</td>\n",
              "      <td>54178039</td>\n",
              "      <td>Levallois-Perret</td>\n",
              "      <td>92300.0</td>\n",
              "      <td>92</td>\n",
              "      <td>2019-04-08T17:12:20.123</td>\n",
              "      <td>NaN</td>\n",
              "      <td>2019-06-14T15:02:18.155</td>\n",
              "      <td>2019-06-14</td>\n",
              "    </tr>\n",
              "  </tbody>\n",
              "</table>\n",
              "</div>"
            ],
            "text/plain": [
              "                                     ID  ... LAST_PRICE_DECREASE_DATE\n",
              "0  22c05930-0eb5-11e7-b53d-bbead8ba43fe  ...                      NaN\n",
              "1  8d092fa0-bb99-11e8-a7c9-852783b5a69d  ...               2018-09-25\n",
              "2  44b6a5c0-3466-11e9-8213-25cc7d9bf5fc  ...                      NaN\n",
              "3  e9e07ed0-812f-11e8-82aa-61eacebe4584  ...                      NaN\n",
              "4  872302b0-5a21-11e9-950c-510fefc1ed35  ...               2019-06-14\n",
              "\n",
              "[5 rows x 57 columns]"
            ]
          },
          "metadata": {
            "tags": []
          },
          "execution_count": 4
        }
      ]
    },
    {
      "cell_type": "code",
      "metadata": {
        "colab": {
          "base_uri": "https://localhost:8080/"
        },
        "id": "ffIl6tpi87ZG",
        "outputId": "d5705a93-17e1-4a25-9c29-037824fe4afa"
      },
      "source": [
        "df.info()"
      ],
      "execution_count": 5,
      "outputs": [
        {
          "output_type": "stream",
          "text": [
            "<class 'pandas.core.frame.DataFrame'>\n",
            "RangeIndex: 2164 entries, 0 to 2163\n",
            "Data columns (total 57 columns):\n",
            " #   Column                      Non-Null Count  Dtype  \n",
            "---  ------                      --------------  -----  \n",
            " 0   ID                          2164 non-null   object \n",
            " 1   URL                         2164 non-null   object \n",
            " 2   CRAWL_SOURCE                2164 non-null   object \n",
            " 3   PROPERTY_TYPE               2164 non-null   object \n",
            " 4   NEW_BUILD                   1973 non-null   object \n",
            " 5   DESCRIPTION                 2160 non-null   object \n",
            " 6   IMAGES                      2164 non-null   object \n",
            " 7   SURFACE                     2050 non-null   float64\n",
            " 8   LAND_SURFACE                3 non-null      float64\n",
            " 9   BALCONY_SURFACE             0 non-null      float64\n",
            " 10  TERRACE_SURFACE             25 non-null     float64\n",
            " 11  ROOM_COUNT                  1835 non-null   float64\n",
            " 12  BEDROOM_COUNT               696 non-null    float64\n",
            " 13  BATHROOM_COUNT              0 non-null      float64\n",
            " 14  LUNCHROOM_COUNT             0 non-null      float64\n",
            " 15  TOILET_COUNT                0 non-null      float64\n",
            " 16  FURNISHED                   467 non-null    object \n",
            " 17  FIREPLACE                   0 non-null      float64\n",
            " 18  AIR_CONDITIONING            0 non-null      float64\n",
            " 19  GARDEN                      14 non-null     float64\n",
            " 20  SWIMMING_POOL               6 non-null      float64\n",
            " 21  BALCONY                     0 non-null      float64\n",
            " 22  TERRACE                     86 non-null     float64\n",
            " 23  CELLAR                      0 non-null      float64\n",
            " 24  PARKING                     2164 non-null   bool   \n",
            " 25  PARKING_COUNT               157 non-null    float64\n",
            " 26  HEATING_TYPES               2164 non-null   object \n",
            " 27  HEATING_MODE                653 non-null    object \n",
            " 28  FLOOR                       660 non-null    float64\n",
            " 29  FLOOR_COUNT                 465 non-null    float64\n",
            " 30  CONSTRUCTION_YEAR           503 non-null    float64\n",
            " 31  ELEVATOR                    552 non-null    object \n",
            " 32  CARETAKER                   247 non-null    object \n",
            " 33  ENERGY_CONSUMPTION          0 non-null      float64\n",
            " 34  GREENHOUSE_GAS_CONSUMPTION  0 non-null      float64\n",
            " 35  MARKETING_TYPE              2164 non-null   object \n",
            " 36  PRICE                       2104 non-null   float64\n",
            " 37  PRICE_M2                    1991 non-null   float64\n",
            " 38  PRICE_EVENTS                2164 non-null   object \n",
            " 39  RENTAL_EXPENSES             441 non-null    float64\n",
            " 40  RENTAL_EXPENSES_INCLUDED    600 non-null    object \n",
            " 41  DEPOSIT                     55 non-null     float64\n",
            " 42  FEES                        94 non-null     float64\n",
            " 43  FEES_INCLUDED               511 non-null    object \n",
            " 44  EXCLUSIVE_MANDATE           2164 non-null   bool   \n",
            " 45  AGENCIES_UNWANTED           201 non-null    object \n",
            " 46  OCCUPIED                    1209 non-null   object \n",
            " 47  DEALER_NAME                 2077 non-null   object \n",
            " 48  DEALER_TYPE                 2164 non-null   object \n",
            " 49  CITY_ID                     2164 non-null   int64  \n",
            " 50  CITY                        2164 non-null   object \n",
            " 51  ZIP_CODE                    2163 non-null   float64\n",
            " 52  DEPT_CODE                   2164 non-null   int64  \n",
            " 53  PUBLICATION_START_DATE      2164 non-null   object \n",
            " 54  PUBLICATION_END_DATE        0 non-null      float64\n",
            " 55  LAST_CRAWL_DATE             2164 non-null   object \n",
            " 56  LAST_PRICE_DECREASE_DATE    340 non-null    object \n",
            "dtypes: bool(2), float64(29), int64(2), object(24)\n",
            "memory usage: 934.2+ KB\n"
          ],
          "name": "stdout"
        }
      ]
    },
    {
      "cell_type": "markdown",
      "metadata": {
        "id": "zLHTENBQ9ALU"
      },
      "source": [
        "We can observe the data is not clean and with lots of nan values, we will proceed to some preprocessing and cleaning tasks.\n",
        "\n",
        "First we will drop all columns with a total of nan values greater than 50% of the total number of observations."
      ]
    },
    {
      "cell_type": "code",
      "metadata": {
        "id": "LV7Ldy3r9bVG"
      },
      "source": [
        "df = df.dropna(axis=1,thresh=1200)\n",
        "id=df[\"ID\"].tolist()"
      ],
      "execution_count": 6,
      "outputs": []
    },
    {
      "cell_type": "markdown",
      "metadata": {
        "id": "OnVcd6Mp95zD"
      },
      "source": [
        "Next will will create dummy columns to encode the categorical variables in our data frame so that we can feed it to an estimator later."
      ]
    },
    {
      "cell_type": "code",
      "metadata": {
        "id": "_HmgUoA9-Hgl"
      },
      "source": [
        "obj_df = df.select_dtypes(include=['object']).copy()\n",
        "obj_df.head()\n",
        "obj_df=pd.get_dummies(obj_df, columns=['CRAWL_SOURCE', 'PROPERTY_TYPE',\n",
        "       'MARKETING_TYPE',\n",
        "      'OCCUPIED', 'DEALER_TYPE'])\n",
        "\n",
        "obj_df=obj_df.select_dtypes(exclude=['object']) "
      ],
      "execution_count": 7,
      "outputs": []
    },
    {
      "cell_type": "markdown",
      "metadata": {
        "id": "1UcsFb01-XI9"
      },
      "source": [
        "Now we merge the two dataframes and we drop all the remaining categorical variables, and we convert the booleans to integers.\n",
        "\n",
        "Moreover since all the ads are located in the same city we can drop the 'CITY_ID', 'ZIP_CODE', 'DEPT_CODE' columns as well, as they are not significative in our case. "
      ]
    },
    {
      "cell_type": "code",
      "metadata": {
        "id": "ggU1pPP0-kMm"
      },
      "source": [
        "df=pd.concat([df,obj_df],axis=1)\n",
        "for (name,data) in df.iteritems():\n",
        "    if  df[name].dtype == \"bool\":\n",
        "        df[name] = df[name].astype(int)\n",
        "df=df.select_dtypes(exclude=['object']) \n",
        "df=df.drop(['CITY_ID', 'ZIP_CODE', 'DEPT_CODE'],axis='columns')\n",
        "old_df=df.copy()"
      ],
      "execution_count": 8,
      "outputs": []
    },
    {
      "cell_type": "markdown",
      "metadata": {
        "id": "_auS0TEY-7eK"
      },
      "source": [
        "Now lets observe our new dataframe."
      ]
    },
    {
      "cell_type": "code",
      "metadata": {
        "colab": {
          "base_uri": "https://localhost:8080/",
          "height": 304
        },
        "id": "HJ2WKUu1--tD",
        "outputId": "6685fbd8-e369-4c42-d57c-0cf1a21c905f"
      },
      "source": [
        "df.describe()"
      ],
      "execution_count": 9,
      "outputs": [
        {
          "output_type": "execute_result",
          "data": {
            "text/html": [
              "<div>\n",
              "<style scoped>\n",
              "    .dataframe tbody tr th:only-of-type {\n",
              "        vertical-align: middle;\n",
              "    }\n",
              "\n",
              "    .dataframe tbody tr th {\n",
              "        vertical-align: top;\n",
              "    }\n",
              "\n",
              "    .dataframe thead th {\n",
              "        text-align: right;\n",
              "    }\n",
              "</style>\n",
              "<table border=\"1\" class=\"dataframe\">\n",
              "  <thead>\n",
              "    <tr style=\"text-align: right;\">\n",
              "      <th></th>\n",
              "      <th>SURFACE</th>\n",
              "      <th>ROOM_COUNT</th>\n",
              "      <th>PARKING</th>\n",
              "      <th>PRICE</th>\n",
              "      <th>PRICE_M2</th>\n",
              "      <th>EXCLUSIVE_MANDATE</th>\n",
              "      <th>CRAWL_SOURCE_A_VENDRE_A_LOUER</th>\n",
              "      <th>CRAWL_SOURCE_BELLES_DEMEURES</th>\n",
              "      <th>CRAWL_SOURCE_BIEN_ICI</th>\n",
              "      <th>CRAWL_SOURCE_EXPLORIMMO</th>\n",
              "      <th>CRAWL_SOURCE_LE_BON_COIN</th>\n",
              "      <th>CRAWL_SOURCE_LOGIC_IMMO</th>\n",
              "      <th>CRAWL_SOURCE_LUX_RESIDENCE</th>\n",
              "      <th>CRAWL_SOURCE_MEILLEURS_AGENTS</th>\n",
              "      <th>CRAWL_SOURCE_PAP</th>\n",
              "      <th>CRAWL_SOURCE_PARU_VENDU</th>\n",
              "      <th>CRAWL_SOURCE_PROPRIETES_DE_FRANCE</th>\n",
              "      <th>CRAWL_SOURCE_SE_LOGER</th>\n",
              "      <th>CRAWL_SOURCE_SURFACE_PRIVEE</th>\n",
              "      <th>PROPERTY_TYPE_APARTMENT</th>\n",
              "      <th>PROPERTY_TYPE_BUILDING</th>\n",
              "      <th>PROPERTY_TYPE_HOUSE</th>\n",
              "      <th>PROPERTY_TYPE_PARKING</th>\n",
              "      <th>PROPERTY_TYPE_PREMISES</th>\n",
              "      <th>MARKETING_TYPE_RENT</th>\n",
              "      <th>MARKETING_TYPE_SALE</th>\n",
              "      <th>OCCUPIED_False</th>\n",
              "      <th>OCCUPIED_True</th>\n",
              "      <th>DEALER_TYPE_AGENCY</th>\n",
              "      <th>DEALER_TYPE_MANDATARY</th>\n",
              "      <th>DEALER_TYPE_PRIVATE</th>\n",
              "    </tr>\n",
              "  </thead>\n",
              "  <tbody>\n",
              "    <tr>\n",
              "      <th>count</th>\n",
              "      <td>2050.000000</td>\n",
              "      <td>1835.000000</td>\n",
              "      <td>2164.000000</td>\n",
              "      <td>2.104000e+03</td>\n",
              "      <td>1991.000000</td>\n",
              "      <td>2164.000000</td>\n",
              "      <td>2164.000000</td>\n",
              "      <td>2164.000000</td>\n",
              "      <td>2164.000000</td>\n",
              "      <td>2164.000000</td>\n",
              "      <td>2164.000000</td>\n",
              "      <td>2164.000000</td>\n",
              "      <td>2164.000000</td>\n",
              "      <td>2164.000000</td>\n",
              "      <td>2164.000000</td>\n",
              "      <td>2164.000000</td>\n",
              "      <td>2164.000000</td>\n",
              "      <td>2164.000000</td>\n",
              "      <td>2164.000000</td>\n",
              "      <td>2164.000000</td>\n",
              "      <td>2164.000000</td>\n",
              "      <td>2164.000000</td>\n",
              "      <td>2164.000000</td>\n",
              "      <td>2164.000000</td>\n",
              "      <td>2164.000000</td>\n",
              "      <td>2164.000000</td>\n",
              "      <td>2164.000000</td>\n",
              "      <td>2164.000000</td>\n",
              "      <td>2164.000000</td>\n",
              "      <td>2164.000000</td>\n",
              "      <td>2164.000000</td>\n",
              "    </tr>\n",
              "    <tr>\n",
              "      <th>mean</th>\n",
              "      <td>128.136068</td>\n",
              "      <td>2.243597</td>\n",
              "      <td>0.072551</td>\n",
              "      <td>4.261142e+05</td>\n",
              "      <td>5483.773420</td>\n",
              "      <td>0.077172</td>\n",
              "      <td>0.096118</td>\n",
              "      <td>0.008780</td>\n",
              "      <td>0.082255</td>\n",
              "      <td>0.090573</td>\n",
              "      <td>0.113678</td>\n",
              "      <td>0.063309</td>\n",
              "      <td>0.003235</td>\n",
              "      <td>0.089187</td>\n",
              "      <td>0.022643</td>\n",
              "      <td>0.014325</td>\n",
              "      <td>0.009704</td>\n",
              "      <td>0.405268</td>\n",
              "      <td>0.000924</td>\n",
              "      <td>0.663586</td>\n",
              "      <td>0.004159</td>\n",
              "      <td>0.024030</td>\n",
              "      <td>0.086876</td>\n",
              "      <td>0.221349</td>\n",
              "      <td>0.436691</td>\n",
              "      <td>0.563309</td>\n",
              "      <td>0.549445</td>\n",
              "      <td>0.009242</td>\n",
              "      <td>0.856747</td>\n",
              "      <td>0.050370</td>\n",
              "      <td>0.092884</td>\n",
              "    </tr>\n",
              "    <tr>\n",
              "      <th>std</th>\n",
              "      <td>423.339898</td>\n",
              "      <td>1.715621</td>\n",
              "      <td>0.259458</td>\n",
              "      <td>6.486603e+05</td>\n",
              "      <td>5384.760624</td>\n",
              "      <td>0.266926</td>\n",
              "      <td>0.294822</td>\n",
              "      <td>0.093311</td>\n",
              "      <td>0.274816</td>\n",
              "      <td>0.287067</td>\n",
              "      <td>0.317494</td>\n",
              "      <td>0.243574</td>\n",
              "      <td>0.056796</td>\n",
              "      <td>0.285079</td>\n",
              "      <td>0.148798</td>\n",
              "      <td>0.118856</td>\n",
              "      <td>0.098054</td>\n",
              "      <td>0.491057</td>\n",
              "      <td>0.030394</td>\n",
              "      <td>0.472592</td>\n",
              "      <td>0.064371</td>\n",
              "      <td>0.153176</td>\n",
              "      <td>0.281719</td>\n",
              "      <td>0.415251</td>\n",
              "      <td>0.496090</td>\n",
              "      <td>0.496090</td>\n",
              "      <td>0.497664</td>\n",
              "      <td>0.095713</td>\n",
              "      <td>0.350412</td>\n",
              "      <td>0.218757</td>\n",
              "      <td>0.290336</td>\n",
              "    </tr>\n",
              "    <tr>\n",
              "      <th>min</th>\n",
              "      <td>6.000000</td>\n",
              "      <td>0.000000</td>\n",
              "      <td>0.000000</td>\n",
              "      <td>3.300000e+01</td>\n",
              "      <td>1.780000</td>\n",
              "      <td>0.000000</td>\n",
              "      <td>0.000000</td>\n",
              "      <td>0.000000</td>\n",
              "      <td>0.000000</td>\n",
              "      <td>0.000000</td>\n",
              "      <td>0.000000</td>\n",
              "      <td>0.000000</td>\n",
              "      <td>0.000000</td>\n",
              "      <td>0.000000</td>\n",
              "      <td>0.000000</td>\n",
              "      <td>0.000000</td>\n",
              "      <td>0.000000</td>\n",
              "      <td>0.000000</td>\n",
              "      <td>0.000000</td>\n",
              "      <td>0.000000</td>\n",
              "      <td>0.000000</td>\n",
              "      <td>0.000000</td>\n",
              "      <td>0.000000</td>\n",
              "      <td>0.000000</td>\n",
              "      <td>0.000000</td>\n",
              "      <td>0.000000</td>\n",
              "      <td>0.000000</td>\n",
              "      <td>0.000000</td>\n",
              "      <td>0.000000</td>\n",
              "      <td>0.000000</td>\n",
              "      <td>0.000000</td>\n",
              "    </tr>\n",
              "    <tr>\n",
              "      <th>25%</th>\n",
              "      <td>36.200000</td>\n",
              "      <td>1.000000</td>\n",
              "      <td>0.000000</td>\n",
              "      <td>1.600000e+03</td>\n",
              "      <td>32.375000</td>\n",
              "      <td>0.000000</td>\n",
              "      <td>0.000000</td>\n",
              "      <td>0.000000</td>\n",
              "      <td>0.000000</td>\n",
              "      <td>0.000000</td>\n",
              "      <td>0.000000</td>\n",
              "      <td>0.000000</td>\n",
              "      <td>0.000000</td>\n",
              "      <td>0.000000</td>\n",
              "      <td>0.000000</td>\n",
              "      <td>0.000000</td>\n",
              "      <td>0.000000</td>\n",
              "      <td>0.000000</td>\n",
              "      <td>0.000000</td>\n",
              "      <td>0.000000</td>\n",
              "      <td>0.000000</td>\n",
              "      <td>0.000000</td>\n",
              "      <td>0.000000</td>\n",
              "      <td>0.000000</td>\n",
              "      <td>0.000000</td>\n",
              "      <td>0.000000</td>\n",
              "      <td>0.000000</td>\n",
              "      <td>0.000000</td>\n",
              "      <td>1.000000</td>\n",
              "      <td>0.000000</td>\n",
              "      <td>0.000000</td>\n",
              "    </tr>\n",
              "    <tr>\n",
              "      <th>50%</th>\n",
              "      <td>55.000000</td>\n",
              "      <td>2.000000</td>\n",
              "      <td>0.000000</td>\n",
              "      <td>2.200000e+05</td>\n",
              "      <td>7586.210000</td>\n",
              "      <td>0.000000</td>\n",
              "      <td>0.000000</td>\n",
              "      <td>0.000000</td>\n",
              "      <td>0.000000</td>\n",
              "      <td>0.000000</td>\n",
              "      <td>0.000000</td>\n",
              "      <td>0.000000</td>\n",
              "      <td>0.000000</td>\n",
              "      <td>0.000000</td>\n",
              "      <td>0.000000</td>\n",
              "      <td>0.000000</td>\n",
              "      <td>0.000000</td>\n",
              "      <td>0.000000</td>\n",
              "      <td>0.000000</td>\n",
              "      <td>1.000000</td>\n",
              "      <td>0.000000</td>\n",
              "      <td>0.000000</td>\n",
              "      <td>0.000000</td>\n",
              "      <td>0.000000</td>\n",
              "      <td>0.000000</td>\n",
              "      <td>1.000000</td>\n",
              "      <td>1.000000</td>\n",
              "      <td>0.000000</td>\n",
              "      <td>1.000000</td>\n",
              "      <td>0.000000</td>\n",
              "      <td>0.000000</td>\n",
              "    </tr>\n",
              "    <tr>\n",
              "      <th>75%</th>\n",
              "      <td>93.000000</td>\n",
              "      <td>3.000000</td>\n",
              "      <td>0.000000</td>\n",
              "      <td>6.097500e+05</td>\n",
              "      <td>10056.750000</td>\n",
              "      <td>0.000000</td>\n",
              "      <td>0.000000</td>\n",
              "      <td>0.000000</td>\n",
              "      <td>0.000000</td>\n",
              "      <td>0.000000</td>\n",
              "      <td>0.000000</td>\n",
              "      <td>0.000000</td>\n",
              "      <td>0.000000</td>\n",
              "      <td>0.000000</td>\n",
              "      <td>0.000000</td>\n",
              "      <td>0.000000</td>\n",
              "      <td>0.000000</td>\n",
              "      <td>1.000000</td>\n",
              "      <td>0.000000</td>\n",
              "      <td>1.000000</td>\n",
              "      <td>0.000000</td>\n",
              "      <td>0.000000</td>\n",
              "      <td>0.000000</td>\n",
              "      <td>0.000000</td>\n",
              "      <td>1.000000</td>\n",
              "      <td>1.000000</td>\n",
              "      <td>1.000000</td>\n",
              "      <td>0.000000</td>\n",
              "      <td>1.000000</td>\n",
              "      <td>0.000000</td>\n",
              "      <td>0.000000</td>\n",
              "    </tr>\n",
              "    <tr>\n",
              "      <th>max</th>\n",
              "      <td>10287.000000</td>\n",
              "      <td>10.000000</td>\n",
              "      <td>1.000000</td>\n",
              "      <td>6.000000e+06</td>\n",
              "      <td>89000.000000</td>\n",
              "      <td>1.000000</td>\n",
              "      <td>1.000000</td>\n",
              "      <td>1.000000</td>\n",
              "      <td>1.000000</td>\n",
              "      <td>1.000000</td>\n",
              "      <td>1.000000</td>\n",
              "      <td>1.000000</td>\n",
              "      <td>1.000000</td>\n",
              "      <td>1.000000</td>\n",
              "      <td>1.000000</td>\n",
              "      <td>1.000000</td>\n",
              "      <td>1.000000</td>\n",
              "      <td>1.000000</td>\n",
              "      <td>1.000000</td>\n",
              "      <td>1.000000</td>\n",
              "      <td>1.000000</td>\n",
              "      <td>1.000000</td>\n",
              "      <td>1.000000</td>\n",
              "      <td>1.000000</td>\n",
              "      <td>1.000000</td>\n",
              "      <td>1.000000</td>\n",
              "      <td>1.000000</td>\n",
              "      <td>1.000000</td>\n",
              "      <td>1.000000</td>\n",
              "      <td>1.000000</td>\n",
              "      <td>1.000000</td>\n",
              "    </tr>\n",
              "  </tbody>\n",
              "</table>\n",
              "</div>"
            ],
            "text/plain": [
              "            SURFACE   ROOM_COUNT  ...  DEALER_TYPE_MANDATARY  DEALER_TYPE_PRIVATE\n",
              "count   2050.000000  1835.000000  ...            2164.000000          2164.000000\n",
              "mean     128.136068     2.243597  ...               0.050370             0.092884\n",
              "std      423.339898     1.715621  ...               0.218757             0.290336\n",
              "min        6.000000     0.000000  ...               0.000000             0.000000\n",
              "25%       36.200000     1.000000  ...               0.000000             0.000000\n",
              "50%       55.000000     2.000000  ...               0.000000             0.000000\n",
              "75%       93.000000     3.000000  ...               0.000000             0.000000\n",
              "max    10287.000000    10.000000  ...               1.000000             1.000000\n",
              "\n",
              "[8 rows x 31 columns]"
            ]
          },
          "metadata": {
            "tags": []
          },
          "execution_count": 9
        }
      ]
    },
    {
      "cell_type": "markdown",
      "metadata": {
        "id": "kKtmgAYE_Dqf"
      },
      "source": [
        "We can see that the statistical dispersion of the data is pretty high, which will surely affect the quality of any estimator we use, as such we proceed to standardize our data frame."
      ]
    },
    {
      "cell_type": "code",
      "metadata": {
        "colab": {
          "base_uri": "https://localhost:8080/",
          "height": 388
        },
        "id": "zmF1_ZMk_TJA",
        "outputId": "efb00fb7-5c0a-4331-ff0d-2347a81e2e65"
      },
      "source": [
        "scaler=StandardScaler()\n",
        "df_scaled = pd.DataFrame(scaler.fit_transform(old_df), columns=old_df.columns)\n",
        "df_scaled.describe()"
      ],
      "execution_count": 10,
      "outputs": [
        {
          "output_type": "execute_result",
          "data": {
            "text/html": [
              "<div>\n",
              "<style scoped>\n",
              "    .dataframe tbody tr th:only-of-type {\n",
              "        vertical-align: middle;\n",
              "    }\n",
              "\n",
              "    .dataframe tbody tr th {\n",
              "        vertical-align: top;\n",
              "    }\n",
              "\n",
              "    .dataframe thead th {\n",
              "        text-align: right;\n",
              "    }\n",
              "</style>\n",
              "<table border=\"1\" class=\"dataframe\">\n",
              "  <thead>\n",
              "    <tr style=\"text-align: right;\">\n",
              "      <th></th>\n",
              "      <th>SURFACE</th>\n",
              "      <th>ROOM_COUNT</th>\n",
              "      <th>PARKING</th>\n",
              "      <th>PRICE</th>\n",
              "      <th>PRICE_M2</th>\n",
              "      <th>EXCLUSIVE_MANDATE</th>\n",
              "      <th>CRAWL_SOURCE_A_VENDRE_A_LOUER</th>\n",
              "      <th>CRAWL_SOURCE_BELLES_DEMEURES</th>\n",
              "      <th>CRAWL_SOURCE_BIEN_ICI</th>\n",
              "      <th>CRAWL_SOURCE_EXPLORIMMO</th>\n",
              "      <th>CRAWL_SOURCE_LE_BON_COIN</th>\n",
              "      <th>CRAWL_SOURCE_LOGIC_IMMO</th>\n",
              "      <th>CRAWL_SOURCE_LUX_RESIDENCE</th>\n",
              "      <th>CRAWL_SOURCE_MEILLEURS_AGENTS</th>\n",
              "      <th>CRAWL_SOURCE_PAP</th>\n",
              "      <th>CRAWL_SOURCE_PARU_VENDU</th>\n",
              "      <th>CRAWL_SOURCE_PROPRIETES_DE_FRANCE</th>\n",
              "      <th>CRAWL_SOURCE_SE_LOGER</th>\n",
              "      <th>CRAWL_SOURCE_SURFACE_PRIVEE</th>\n",
              "      <th>PROPERTY_TYPE_APARTMENT</th>\n",
              "      <th>PROPERTY_TYPE_BUILDING</th>\n",
              "      <th>PROPERTY_TYPE_HOUSE</th>\n",
              "      <th>PROPERTY_TYPE_PARKING</th>\n",
              "      <th>PROPERTY_TYPE_PREMISES</th>\n",
              "      <th>MARKETING_TYPE_RENT</th>\n",
              "      <th>MARKETING_TYPE_SALE</th>\n",
              "      <th>OCCUPIED_False</th>\n",
              "      <th>OCCUPIED_True</th>\n",
              "      <th>DEALER_TYPE_AGENCY</th>\n",
              "      <th>DEALER_TYPE_MANDATARY</th>\n",
              "      <th>DEALER_TYPE_PRIVATE</th>\n",
              "    </tr>\n",
              "  </thead>\n",
              "  <tbody>\n",
              "    <tr>\n",
              "      <th>count</th>\n",
              "      <td>2.050000e+03</td>\n",
              "      <td>1.835000e+03</td>\n",
              "      <td>2.164000e+03</td>\n",
              "      <td>2.104000e+03</td>\n",
              "      <td>1.991000e+03</td>\n",
              "      <td>2.164000e+03</td>\n",
              "      <td>2.164000e+03</td>\n",
              "      <td>2.164000e+03</td>\n",
              "      <td>2.164000e+03</td>\n",
              "      <td>2.164000e+03</td>\n",
              "      <td>2.164000e+03</td>\n",
              "      <td>2.164000e+03</td>\n",
              "      <td>2.164000e+03</td>\n",
              "      <td>2.164000e+03</td>\n",
              "      <td>2.164000e+03</td>\n",
              "      <td>2.164000e+03</td>\n",
              "      <td>2.164000e+03</td>\n",
              "      <td>2.164000e+03</td>\n",
              "      <td>2.164000e+03</td>\n",
              "      <td>2.164000e+03</td>\n",
              "      <td>2.164000e+03</td>\n",
              "      <td>2.164000e+03</td>\n",
              "      <td>2.164000e+03</td>\n",
              "      <td>2.164000e+03</td>\n",
              "      <td>2.164000e+03</td>\n",
              "      <td>2.164000e+03</td>\n",
              "      <td>2.164000e+03</td>\n",
              "      <td>2.164000e+03</td>\n",
              "      <td>2.164000e+03</td>\n",
              "      <td>2.164000e+03</td>\n",
              "      <td>2.164000e+03</td>\n",
              "    </tr>\n",
              "    <tr>\n",
              "      <th>mean</th>\n",
              "      <td>-6.471788e-17</td>\n",
              "      <td>1.653234e-17</td>\n",
              "      <td>2.049603e-16</td>\n",
              "      <td>-2.516338e-18</td>\n",
              "      <td>7.895911e-17</td>\n",
              "      <td>7.928039e-16</td>\n",
              "      <td>7.859804e-17</td>\n",
              "      <td>-1.877734e-16</td>\n",
              "      <td>2.897662e-16</td>\n",
              "      <td>6.156505e-18</td>\n",
              "      <td>4.861587e-16</td>\n",
              "      <td>-2.716558e-17</td>\n",
              "      <td>-2.567711e-16</td>\n",
              "      <td>-2.335881e-16</td>\n",
              "      <td>-9.732408e-16</td>\n",
              "      <td>3.413012e-17</td>\n",
              "      <td>-5.299596e-16</td>\n",
              "      <td>-8.814063e-17</td>\n",
              "      <td>-2.834686e-16</td>\n",
              "      <td>-8.417994e-16</td>\n",
              "      <td>-1.511935e-16</td>\n",
              "      <td>-1.231301e-18</td>\n",
              "      <td>-6.970446e-16</td>\n",
              "      <td>-8.356429e-16</td>\n",
              "      <td>-8.670411e-17</td>\n",
              "      <td>1.143058e-16</td>\n",
              "      <td>1.507318e-16</td>\n",
              "      <td>2.361404e-16</td>\n",
              "      <td>5.022682e-17</td>\n",
              "      <td>-7.823891e-18</td>\n",
              "      <td>-1.186666e-16</td>\n",
              "    </tr>\n",
              "    <tr>\n",
              "      <th>std</th>\n",
              "      <td>1.000244e+00</td>\n",
              "      <td>1.000273e+00</td>\n",
              "      <td>1.000231e+00</td>\n",
              "      <td>1.000238e+00</td>\n",
              "      <td>1.000251e+00</td>\n",
              "      <td>1.000231e+00</td>\n",
              "      <td>1.000231e+00</td>\n",
              "      <td>1.000231e+00</td>\n",
              "      <td>1.000231e+00</td>\n",
              "      <td>1.000231e+00</td>\n",
              "      <td>1.000231e+00</td>\n",
              "      <td>1.000231e+00</td>\n",
              "      <td>1.000231e+00</td>\n",
              "      <td>1.000231e+00</td>\n",
              "      <td>1.000231e+00</td>\n",
              "      <td>1.000231e+00</td>\n",
              "      <td>1.000231e+00</td>\n",
              "      <td>1.000231e+00</td>\n",
              "      <td>1.000231e+00</td>\n",
              "      <td>1.000231e+00</td>\n",
              "      <td>1.000231e+00</td>\n",
              "      <td>1.000231e+00</td>\n",
              "      <td>1.000231e+00</td>\n",
              "      <td>1.000231e+00</td>\n",
              "      <td>1.000231e+00</td>\n",
              "      <td>1.000231e+00</td>\n",
              "      <td>1.000231e+00</td>\n",
              "      <td>1.000231e+00</td>\n",
              "      <td>1.000231e+00</td>\n",
              "      <td>1.000231e+00</td>\n",
              "      <td>1.000231e+00</td>\n",
              "    </tr>\n",
              "    <tr>\n",
              "      <th>min</th>\n",
              "      <td>-2.885763e-01</td>\n",
              "      <td>-1.308103e+00</td>\n",
              "      <td>-2.796895e-01</td>\n",
              "      <td>-6.570196e-01</td>\n",
              "      <td>-1.018313e+00</td>\n",
              "      <td>-2.891806e-01</td>\n",
              "      <td>-3.260973e-01</td>\n",
              "      <td>-9.411593e-02</td>\n",
              "      <td>-2.993783e-01</td>\n",
              "      <td>-3.155844e-01</td>\n",
              "      <td>-3.581321e-01</td>\n",
              "      <td>-2.599761e-01</td>\n",
              "      <td>-5.696708e-02</td>\n",
              "      <td>-3.129215e-01</td>\n",
              "      <td>-1.522099e-01</td>\n",
              "      <td>-1.205551e-01</td>\n",
              "      <td>-9.899165e-02</td>\n",
              "      <td>-8.254875e-01</td>\n",
              "      <td>-3.041495e-02</td>\n",
              "      <td>-1.404467e+00</td>\n",
              "      <td>-6.462456e-02</td>\n",
              "      <td>-1.569115e-01</td>\n",
              "      <td>-3.084505e-01</td>\n",
              "      <td>-5.331726e-01</td>\n",
              "      <td>-8.804690e-01</td>\n",
              "      <td>-1.135758e+00</td>\n",
              "      <td>-1.104304e+00</td>\n",
              "      <td>-9.658343e-02</td>\n",
              "      <td>-2.445536e+00</td>\n",
              "      <td>-2.303071e-01</td>\n",
              "      <td>-3.199911e-01</td>\n",
              "    </tr>\n",
              "    <tr>\n",
              "      <th>25%</th>\n",
              "      <td>-2.172214e-01</td>\n",
              "      <td>-7.250645e-01</td>\n",
              "      <td>-2.796895e-01</td>\n",
              "      <td>-6.546032e-01</td>\n",
              "      <td>-1.012630e+00</td>\n",
              "      <td>-2.891806e-01</td>\n",
              "      <td>-3.260973e-01</td>\n",
              "      <td>-9.411593e-02</td>\n",
              "      <td>-2.993783e-01</td>\n",
              "      <td>-3.155844e-01</td>\n",
              "      <td>-3.581321e-01</td>\n",
              "      <td>-2.599761e-01</td>\n",
              "      <td>-5.696708e-02</td>\n",
              "      <td>-3.129215e-01</td>\n",
              "      <td>-1.522099e-01</td>\n",
              "      <td>-1.205551e-01</td>\n",
              "      <td>-9.899165e-02</td>\n",
              "      <td>-8.254875e-01</td>\n",
              "      <td>-3.041495e-02</td>\n",
              "      <td>-1.404467e+00</td>\n",
              "      <td>-6.462456e-02</td>\n",
              "      <td>-1.569115e-01</td>\n",
              "      <td>-3.084505e-01</td>\n",
              "      <td>-5.331726e-01</td>\n",
              "      <td>-8.804690e-01</td>\n",
              "      <td>-1.135758e+00</td>\n",
              "      <td>-1.104304e+00</td>\n",
              "      <td>-9.658343e-02</td>\n",
              "      <td>4.089084e-01</td>\n",
              "      <td>-2.303071e-01</td>\n",
              "      <td>-3.199911e-01</td>\n",
              "    </tr>\n",
              "    <tr>\n",
              "      <th>50%</th>\n",
              "      <td>-1.728018e-01</td>\n",
              "      <td>-1.420262e-01</td>\n",
              "      <td>-2.796895e-01</td>\n",
              "      <td>-3.178292e-01</td>\n",
              "      <td>3.905401e-01</td>\n",
              "      <td>-2.891806e-01</td>\n",
              "      <td>-3.260973e-01</td>\n",
              "      <td>-9.411593e-02</td>\n",
              "      <td>-2.993783e-01</td>\n",
              "      <td>-3.155844e-01</td>\n",
              "      <td>-3.581321e-01</td>\n",
              "      <td>-2.599761e-01</td>\n",
              "      <td>-5.696708e-02</td>\n",
              "      <td>-3.129215e-01</td>\n",
              "      <td>-1.522099e-01</td>\n",
              "      <td>-1.205551e-01</td>\n",
              "      <td>-9.899165e-02</td>\n",
              "      <td>-8.254875e-01</td>\n",
              "      <td>-3.041495e-02</td>\n",
              "      <td>7.120139e-01</td>\n",
              "      <td>-6.462456e-02</td>\n",
              "      <td>-1.569115e-01</td>\n",
              "      <td>-3.084505e-01</td>\n",
              "      <td>-5.331726e-01</td>\n",
              "      <td>-8.804690e-01</td>\n",
              "      <td>8.804690e-01</td>\n",
              "      <td>9.055478e-01</td>\n",
              "      <td>-9.658343e-02</td>\n",
              "      <td>4.089084e-01</td>\n",
              "      <td>-2.303071e-01</td>\n",
              "      <td>-3.199911e-01</td>\n",
              "    </tr>\n",
              "    <tr>\n",
              "      <th>75%</th>\n",
              "      <td>-8.301755e-02</td>\n",
              "      <td>4.410121e-01</td>\n",
              "      <td>-2.796895e-01</td>\n",
              "      <td>2.831674e-01</td>\n",
              "      <td>8.494575e-01</td>\n",
              "      <td>-2.891806e-01</td>\n",
              "      <td>-3.260973e-01</td>\n",
              "      <td>-9.411593e-02</td>\n",
              "      <td>-2.993783e-01</td>\n",
              "      <td>-3.155844e-01</td>\n",
              "      <td>-3.581321e-01</td>\n",
              "      <td>-2.599761e-01</td>\n",
              "      <td>-5.696708e-02</td>\n",
              "      <td>-3.129215e-01</td>\n",
              "      <td>-1.522099e-01</td>\n",
              "      <td>-1.205551e-01</td>\n",
              "      <td>-9.899165e-02</td>\n",
              "      <td>1.211405e+00</td>\n",
              "      <td>-3.041495e-02</td>\n",
              "      <td>7.120139e-01</td>\n",
              "      <td>-6.462456e-02</td>\n",
              "      <td>-1.569115e-01</td>\n",
              "      <td>-3.084505e-01</td>\n",
              "      <td>-5.331726e-01</td>\n",
              "      <td>1.135758e+00</td>\n",
              "      <td>8.804690e-01</td>\n",
              "      <td>9.055478e-01</td>\n",
              "      <td>-9.658343e-02</td>\n",
              "      <td>4.089084e-01</td>\n",
              "      <td>-2.303071e-01</td>\n",
              "      <td>-3.199911e-01</td>\n",
              "    </tr>\n",
              "    <tr>\n",
              "      <th>max</th>\n",
              "      <td>2.400280e+01</td>\n",
              "      <td>4.522280e+00</td>\n",
              "      <td>3.575394e+00</td>\n",
              "      <td>8.594963e+00</td>\n",
              "      <td>1.551363e+01</td>\n",
              "      <td>3.458046e+00</td>\n",
              "      <td>3.066569e+00</td>\n",
              "      <td>1.062519e+01</td>\n",
              "      <td>3.340255e+00</td>\n",
              "      <td>3.168725e+00</td>\n",
              "      <td>2.792266e+00</td>\n",
              "      <td>3.846508e+00</td>\n",
              "      <td>1.755400e+01</td>\n",
              "      <td>3.195690e+00</td>\n",
              "      <td>6.569876e+00</td>\n",
              "      <td>8.294965e+00</td>\n",
              "      <td>1.010186e+01</td>\n",
              "      <td>1.211405e+00</td>\n",
              "      <td>3.287856e+01</td>\n",
              "      <td>7.120139e-01</td>\n",
              "      <td>1.547399e+01</td>\n",
              "      <td>6.373020e+00</td>\n",
              "      <td>3.242011e+00</td>\n",
              "      <td>1.875565e+00</td>\n",
              "      <td>1.135758e+00</td>\n",
              "      <td>8.804690e-01</td>\n",
              "      <td>9.055478e-01</td>\n",
              "      <td>1.035374e+01</td>\n",
              "      <td>4.089084e-01</td>\n",
              "      <td>4.342028e+00</td>\n",
              "      <td>3.125087e+00</td>\n",
              "    </tr>\n",
              "  </tbody>\n",
              "</table>\n",
              "</div>"
            ],
            "text/plain": [
              "            SURFACE    ROOM_COUNT  ...  DEALER_TYPE_MANDATARY  DEALER_TYPE_PRIVATE\n",
              "count  2.050000e+03  1.835000e+03  ...           2.164000e+03         2.164000e+03\n",
              "mean  -6.471788e-17  1.653234e-17  ...          -7.823891e-18        -1.186666e-16\n",
              "std    1.000244e+00  1.000273e+00  ...           1.000231e+00         1.000231e+00\n",
              "min   -2.885763e-01 -1.308103e+00  ...          -2.303071e-01        -3.199911e-01\n",
              "25%   -2.172214e-01 -7.250645e-01  ...          -2.303071e-01        -3.199911e-01\n",
              "50%   -1.728018e-01 -1.420262e-01  ...          -2.303071e-01        -3.199911e-01\n",
              "75%   -8.301755e-02  4.410121e-01  ...          -2.303071e-01        -3.199911e-01\n",
              "max    2.400280e+01  4.522280e+00  ...           4.342028e+00         3.125087e+00\n",
              "\n",
              "[8 rows x 31 columns]"
            ]
          },
          "metadata": {
            "tags": []
          },
          "execution_count": 10
        }
      ]
    },
    {
      "cell_type": "markdown",
      "metadata": {
        "id": "YmaJL2d1_iLH"
      },
      "source": [
        "Now we can assume that we are in a case of unsupervised learning, because we do not have acess to a label vector mapping each ad to a given real estate. \n",
        "\n",
        "Our first intuition at this point is finding a way to visualize our data somehow and see if we can observe any clusters, for this purpose we will rely on Principal Component Analysis ( PCA ), but first we have to deal with all the nan values still present within our dataframe and for that we will use an imputer strategy. "
      ]
    },
    {
      "cell_type": "code",
      "metadata": {
        "id": "GxWGyC9VAPDO"
      },
      "source": [
        "imp=SimpleImputer(strategy=\"median\")\n",
        "imp.fit(df_scaled)\n",
        "df_scaled=imp.transform(df_scaled)\n"
      ],
      "execution_count": 11,
      "outputs": []
    },
    {
      "cell_type": "markdown",
      "metadata": {
        "id": "tnjRC9XRWt6k"
      },
      "source": [
        "Now this part is optional, but in order to avoid any variables being misleading in terms of statistical significance we can plot the correlation matrix and retrieve variables whom correlation is very high and drop one of them to avoid being misled by their signficance. "
      ]
    },
    {
      "cell_type": "code",
      "metadata": {
        "colab": {
          "base_uri": "https://localhost:8080/",
          "height": 299
        },
        "id": "1tklWs8tRYwd",
        "outputId": "638ad25e-8a78-4d4b-a6e8-a67be1d94b56"
      },
      "source": [
        "cor=df.corr()\n",
        "sns.set(font_scale=1.5)\n",
        "hm = sns.heatmap(cor.to_numpy(),\n",
        "                 cbar=True,\n",
        "                 fmt='.2f',\n",
        "                 annot_kws={'size': 24},\n",
        "                )\n",
        "plt.title('Covariance matrix showing correlation coefficients')\n",
        "plt.show()"
      ],
      "execution_count": 12,
      "outputs": [
        {
          "output_type": "display_data",
          "data": {
            "image/png": "[encoded data removed]",
            "text/plain": [
              "<Figure size 432x288 with 2 Axes>"
            ]
          },
          "metadata": {
            "tags": []
          }
        }
      ]
    },
    {
      "cell_type": "code",
      "metadata": {
        "colab": {
          "base_uri": "https://localhost:8080/"
        },
        "id": "2fLqEAjOSEqL",
        "outputId": "a3234dae-179b-4515-b6ab-68667fbdc5e2"
      },
      "source": [
        "indices = np.argwhere(np.abs(cor.to_numpy())>0.85)\n",
        "indices.shape\n",
        "temp_list=[]\n",
        "for i,j in zip(indices[:,0],indices[:,1]):\n",
        "  if i != j :\n",
        "    temp_list.append((i,j))\n",
        "temp_list\n",
        "\n",
        "    "
      ],
      "execution_count": 13,
      "outputs": [
        {
          "output_type": "stream",
          "text": [
            "/usr/local/lib/python3.6/dist-packages/ipykernel_launcher.py:1: RuntimeWarning: invalid value encountered in greater\n",
            "  \"\"\"Entry point for launching an IPython kernel.\n"
          ],
          "name": "stderr"
        },
        {
          "output_type": "execute_result",
          "data": {
            "text/plain": [
              "[(24, 25), (24, 26), (25, 24), (25, 26), (26, 24), (26, 25)]"
            ]
          },
          "metadata": {
            "tags": []
          },
          "execution_count": 13
        }
      ]
    },
    {
      "cell_type": "code",
      "metadata": {
        "colab": {
          "base_uri": "https://localhost:8080/",
          "height": 35
        },
        "id": "Kljlm52_Uxwr",
        "outputId": "17edd212-9efd-40b4-f3c0-36953ead0a8e"
      },
      "source": [
        "''' \n",
        "This part is optional and requires further investigating\n",
        "'''\n",
        "#df_scaled = np.delete(df_scaled,24,axis=1)\n",
        "#df_scaled.shape"
      ],
      "execution_count": 14,
      "outputs": [
        {
          "output_type": "execute_result",
          "data": {
            "application/vnd.google.colaboratory.intrinsic+json": {
              "type": "string"
            },
            "text/plain": [
              "' \\nThis part is optional and requires further investigating\\n'"
            ]
          },
          "metadata": {
            "tags": []
          },
          "execution_count": 14
        }
      ]
    },
    {
      "cell_type": "markdown",
      "metadata": {
        "id": "NYFt3_VVAWeN"
      },
      "source": [
        "We can now proceed to apply PCA"
      ]
    },
    {
      "cell_type": "code",
      "metadata": {
        "colab": {
          "base_uri": "https://localhost:8080/",
          "height": 281
        },
        "id": "yzECzhS5AaVN",
        "outputId": "dcc73dd6-b3cc-4163-b0b2-bd8ae202e844"
      },
      "source": [
        "pca=PCA()\n",
        "pca.fit(df_scaled)\n",
        "df=pca.transform(df_scaled)\n",
        "plt.scatter(df[:,0],df[:,1],alpha=0.4)\n",
        "plt.show()\n"
      ],
      "execution_count": 15,
      "outputs": [
        {
          "output_type": "display_data",
          "data": {
            "image/png": "[encoded data removed]",
            "text/plain": [
              "<Figure size 432x288 with 1 Axes>"
            ]
          },
          "metadata": {
            "tags": []
          }
        }
      ]
    },
    {
      "cell_type": "code",
      "metadata": {
        "colab": {
          "base_uri": "https://localhost:8080/",
          "height": 248
        },
        "id": "k795zYn6Aq7X",
        "outputId": "b19a9456-f2dd-4cf0-95e0-024d18dc0f45"
      },
      "source": [
        "fig = plt.figure()\n",
        "ax = fig.add_subplot(111, projection='3d')\n",
        "ax.scatter(df[:,0],df[:,1],df[:,1])\n",
        "plt.show()"
      ],
      "execution_count": 16,
      "outputs": [
        {
          "output_type": "display_data",
          "data": {
            "image/png": "[encoded data removed]",
            "text/plain": [
              "<Figure size 432x288 with 1 Axes>"
            ]
          },
          "metadata": {
            "tags": []
          }
        }
      ]
    },
    {
      "cell_type": "markdown",
      "metadata": {
        "id": "yajEQz1dAzJ-"
      },
      "source": [
        "We can now see the clusters ( dense blue ), We can apply KMeans for instance to cluster them. \n",
        "\n",
        "We can use the elbow rule to determine the most probable number of significant clusters. "
      ]
    },
    {
      "cell_type": "code",
      "metadata": {
        "colab": {
          "base_uri": "https://localhost:8080/",
          "height": 276
        },
        "id": "UdeKPJRxBEEe",
        "outputId": "dbb71bcd-2316-46a4-ea51-ea0a4bc72a13"
      },
      "source": [
        "eigenvalues = pca.explained_variance_\n",
        "plt.bar(np.arange(0,31,1), eigenvalues)\n",
        "plt.plot(eigenvalues, \"r\")\n",
        "plt.plot(eigenvalues, \"ro\")\n",
        "plt.show()"
      ],
      "execution_count": 17,
      "outputs": [
        {
          "output_type": "display_data",
          "data": {
            "image/png": "[encoded data removed]",
            "text/plain": [
              "<Figure size 432x288 with 1 Axes>"
            ]
          },
          "metadata": {
            "tags": []
          }
        }
      ]
    },
    {
      "cell_type": "markdown",
      "metadata": {
        "id": "_AgW96QdBS4d"
      },
      "source": [
        "Using the elbow rule we have two possible choices, either 21 clusters or 25 clusters, we will try both."
      ]
    },
    {
      "cell_type": "code",
      "metadata": {
        "colab": {
          "base_uri": "https://localhost:8080/",
          "height": 298
        },
        "id": "aG2_L_NeBjiQ",
        "outputId": "f83f86c2-ade2-445a-e584-2af0012b6ff0"
      },
      "source": [
        "kmeans = KMeans(n_clusters = 21)\n",
        "kmeans.fit(df)\n",
        "clusters = kmeans.predict(df)\n",
        "\n",
        "plt.scatter(df[:,0],df[:,1], c = clusters,alpha=0.4, cmap = 'viridis')\n",
        "centers = kmeans.cluster_centers_\n",
        "plt.scatter(centers[:, 0], centers[:, 1], c = 'black', s = 200, alpha = 0.5)\n",
        "\n",
        "        "
      ],
      "execution_count": 18,
      "outputs": [
        {
          "output_type": "execute_result",
          "data": {
            "text/plain": [
              "<matplotlib.collections.PathCollection at 0x7f0d6e871438>"
            ]
          },
          "metadata": {
            "tags": []
          },
          "execution_count": 18
        },
        {
          "output_type": "display_data",
          "data": {
            "image/png": "[encoded data removed]",
            "text/plain": [
              "<Figure size 432x288 with 1 Axes>"
            ]
          },
          "metadata": {
            "tags": []
          }
        }
      ]
    },
    {
      "cell_type": "code",
      "metadata": {
        "colab": {
          "base_uri": "https://localhost:8080/",
          "height": 298
        },
        "id": "0ZsQ4tRSB4Tn",
        "outputId": "4934f032-fc9d-471b-9533-1f0646753f7f"
      },
      "source": [
        "kmeans = KMeans(n_clusters = 25)\n",
        "kmeans.fit(df)\n",
        "clusters = kmeans.predict(df)\n",
        "\n",
        "plt.scatter(df[:,0],df[:,1], c = clusters,alpha=0.4, cmap = 'viridis')\n",
        "centers = kmeans.cluster_centers_\n",
        "plt.scatter(centers[:, 0], centers[:, 1], c = 'black', s = 200, alpha = 0.5)"
      ],
      "execution_count": 19,
      "outputs": [
        {
          "output_type": "execute_result",
          "data": {
            "text/plain": [
              "<matplotlib.collections.PathCollection at 0x7f0d6e7d2780>"
            ]
          },
          "metadata": {
            "tags": []
          },
          "execution_count": 19
        },
        {
          "output_type": "display_data",
          "data": {
            "image/png": "[encoded data removed]",
            "text/plain": [
              "<Figure size 432x288 with 1 Axes>"
            ]
          },
          "metadata": {
            "tags": []
          }
        }
      ]
    },
    {
      "cell_type": "markdown",
      "metadata": {
        "id": "MimUMkApJBll"
      },
      "source": [
        "Both choices give pretty close results. \n",
        "\n",
        "Now we want to retreive the clustered ads so we'll create a dataframe mapping each ad to its respective cluster."
      ]
    },
    {
      "cell_type": "code",
      "metadata": {
        "colab": {
          "base_uri": "https://localhost:8080/",
          "height": 195
        },
        "id": "mcfqgTrfDnVF",
        "outputId": "451f1c17-31cb-4d80-ab66-3409a0690188"
      },
      "source": [
        "id=np.array(id)\n",
        "\n",
        "labels = kmeans.labels_\n",
        "\n",
        "Labeled_IDs=pd.DataFrame({\"ID\":id,\"Real estate label\":labels})\n",
        "\n",
        "Labeled_IDs.head()\n"
      ],
      "execution_count": 20,
      "outputs": [
        {
          "output_type": "execute_result",
          "data": {
            "text/html": [
              "<div>\n",
              "<style scoped>\n",
              "    .dataframe tbody tr th:only-of-type {\n",
              "        vertical-align: middle;\n",
              "    }\n",
              "\n",
              "    .dataframe tbody tr th {\n",
              "        vertical-align: top;\n",
              "    }\n",
              "\n",
              "    .dataframe thead th {\n",
              "        text-align: right;\n",
              "    }\n",
              "</style>\n",
              "<table border=\"1\" class=\"dataframe\">\n",
              "  <thead>\n",
              "    <tr style=\"text-align: right;\">\n",
              "      <th></th>\n",
              "      <th>ID</th>\n",
              "      <th>Real estate label</th>\n",
              "    </tr>\n",
              "  </thead>\n",
              "  <tbody>\n",
              "    <tr>\n",
              "      <th>0</th>\n",
              "      <td>22c05930-0eb5-11e7-b53d-bbead8ba43fe</td>\n",
              "      <td>22</td>\n",
              "    </tr>\n",
              "    <tr>\n",
              "      <th>1</th>\n",
              "      <td>8d092fa0-bb99-11e8-a7c9-852783b5a69d</td>\n",
              "      <td>24</td>\n",
              "    </tr>\n",
              "    <tr>\n",
              "      <th>2</th>\n",
              "      <td>44b6a5c0-3466-11e9-8213-25cc7d9bf5fc</td>\n",
              "      <td>10</td>\n",
              "    </tr>\n",
              "    <tr>\n",
              "      <th>3</th>\n",
              "      <td>e9e07ed0-812f-11e8-82aa-61eacebe4584</td>\n",
              "      <td>1</td>\n",
              "    </tr>\n",
              "    <tr>\n",
              "      <th>4</th>\n",
              "      <td>872302b0-5a21-11e9-950c-510fefc1ed35</td>\n",
              "      <td>10</td>\n",
              "    </tr>\n",
              "  </tbody>\n",
              "</table>\n",
              "</div>"
            ],
            "text/plain": [
              "                                     ID  Real estate label\n",
              "0  22c05930-0eb5-11e7-b53d-bbead8ba43fe                 22\n",
              "1  8d092fa0-bb99-11e8-a7c9-852783b5a69d                 24\n",
              "2  44b6a5c0-3466-11e9-8213-25cc7d9bf5fc                 10\n",
              "3  e9e07ed0-812f-11e8-82aa-61eacebe4584                  1\n",
              "4  872302b0-5a21-11e9-950c-510fefc1ed35                 10"
            ]
          },
          "metadata": {
            "tags": []
          },
          "execution_count": 20
        }
      ]
    },
    {
      "cell_type": "code",
      "metadata": {
        "colab": {
          "base_uri": "https://localhost:8080/",
          "height": 610
        },
        "id": "YWzEqdEHFgc1",
        "outputId": "fe3e453c-dd59-4d38-9411-6d46780910ba"
      },
      "source": [
        "Labeled_IDs.loc[Labeled_IDs[\"Real estate label\"]==10]"
      ],
      "execution_count": 21,
      "outputs": [
        {
          "output_type": "execute_result",
          "data": {
            "text/html": [
              "<div>\n",
              "<style scoped>\n",
              "    .dataframe tbody tr th:only-of-type {\n",
              "        vertical-align: middle;\n",
              "    }\n",
              "\n",
              "    .dataframe tbody tr th {\n",
              "        vertical-align: top;\n",
              "    }\n",
              "\n",
              "    .dataframe thead th {\n",
              "        text-align: right;\n",
              "    }\n",
              "</style>\n",
              "<table border=\"1\" class=\"dataframe\">\n",
              "  <thead>\n",
              "    <tr style=\"text-align: right;\">\n",
              "      <th></th>\n",
              "      <th>ID</th>\n",
              "      <th>Real estate label</th>\n",
              "    </tr>\n",
              "  </thead>\n",
              "  <tbody>\n",
              "    <tr>\n",
              "      <th>2</th>\n",
              "      <td>44b6a5c0-3466-11e9-8213-25cc7d9bf5fc</td>\n",
              "      <td>10</td>\n",
              "    </tr>\n",
              "    <tr>\n",
              "      <th>4</th>\n",
              "      <td>872302b0-5a21-11e9-950c-510fefc1ed35</td>\n",
              "      <td>10</td>\n",
              "    </tr>\n",
              "    <tr>\n",
              "      <th>267</th>\n",
              "      <td>782f5ac0-a737-11e9-96d9-fb3253f8fc6c</td>\n",
              "      <td>10</td>\n",
              "    </tr>\n",
              "    <tr>\n",
              "      <th>292</th>\n",
              "      <td>82ea5180-9289-11e9-a7f2-f5443208fc78</td>\n",
              "      <td>10</td>\n",
              "    </tr>\n",
              "    <tr>\n",
              "      <th>372</th>\n",
              "      <td>bdb404e0-d705-11e8-a22a-f5ef01c5fcae</td>\n",
              "      <td>10</td>\n",
              "    </tr>\n",
              "    <tr>\n",
              "      <th>432</th>\n",
              "      <td>138e7140-9d1f-11e9-ab3e-47ec2b68d334</td>\n",
              "      <td>10</td>\n",
              "    </tr>\n",
              "    <tr>\n",
              "      <th>502</th>\n",
              "      <td>89467920-5f6a-11e9-8084-55ce2049f05c</td>\n",
              "      <td>10</td>\n",
              "    </tr>\n",
              "    <tr>\n",
              "      <th>504</th>\n",
              "      <td>f99cd5d0-30c0-11e9-8330-99e77f092ba1</td>\n",
              "      <td>10</td>\n",
              "    </tr>\n",
              "    <tr>\n",
              "      <th>677</th>\n",
              "      <td>2cdb0260-9c09-11e9-af77-a17d8c291169</td>\n",
              "      <td>10</td>\n",
              "    </tr>\n",
              "    <tr>\n",
              "      <th>794</th>\n",
              "      <td>da10db80-9687-11e9-bba5-076f63900c40</td>\n",
              "      <td>10</td>\n",
              "    </tr>\n",
              "    <tr>\n",
              "      <th>945</th>\n",
              "      <td>9b9824e0-19c2-11e9-8321-1350c9447565</td>\n",
              "      <td>10</td>\n",
              "    </tr>\n",
              "    <tr>\n",
              "      <th>1000</th>\n",
              "      <td>af6f4510-92bd-11e9-bc97-e75542746f87</td>\n",
              "      <td>10</td>\n",
              "    </tr>\n",
              "    <tr>\n",
              "      <th>1117</th>\n",
              "      <td>a9617ce0-5741-11e9-bcf5-3b398c242d19</td>\n",
              "      <td>10</td>\n",
              "    </tr>\n",
              "    <tr>\n",
              "      <th>1136</th>\n",
              "      <td>fdad4140-24c8-11e9-a868-f3184cf577d9</td>\n",
              "      <td>10</td>\n",
              "    </tr>\n",
              "    <tr>\n",
              "      <th>1157</th>\n",
              "      <td>fca5e030-5598-11e9-bcf5-3b398c242d19</td>\n",
              "      <td>10</td>\n",
              "    </tr>\n",
              "    <tr>\n",
              "      <th>1250</th>\n",
              "      <td>7a1b80c0-a89f-11e9-aa5e-8b8909b4f047</td>\n",
              "      <td>10</td>\n",
              "    </tr>\n",
              "    <tr>\n",
              "      <th>1712</th>\n",
              "      <td>ff600360-ac59-11e9-96d9-fb3253f8fc6c</td>\n",
              "      <td>10</td>\n",
              "    </tr>\n",
              "    <tr>\n",
              "      <th>1927</th>\n",
              "      <td>9bb373b0-5ddf-11e9-8084-55ce2049f05c</td>\n",
              "      <td>10</td>\n",
              "    </tr>\n",
              "    <tr>\n",
              "      <th>1995</th>\n",
              "      <td>05b39090-6eff-11e8-91b3-8d7b603ef3b8</td>\n",
              "      <td>10</td>\n",
              "    </tr>\n",
              "  </tbody>\n",
              "</table>\n",
              "</div>"
            ],
            "text/plain": [
              "                                        ID  Real estate label\n",
              "2     44b6a5c0-3466-11e9-8213-25cc7d9bf5fc                 10\n",
              "4     872302b0-5a21-11e9-950c-510fefc1ed35                 10\n",
              "267   782f5ac0-a737-11e9-96d9-fb3253f8fc6c                 10\n",
              "292   82ea5180-9289-11e9-a7f2-f5443208fc78                 10\n",
              "372   bdb404e0-d705-11e8-a22a-f5ef01c5fcae                 10\n",
              "432   138e7140-9d1f-11e9-ab3e-47ec2b68d334                 10\n",
              "502   89467920-5f6a-11e9-8084-55ce2049f05c                 10\n",
              "504   f99cd5d0-30c0-11e9-8330-99e77f092ba1                 10\n",
              "677   2cdb0260-9c09-11e9-af77-a17d8c291169                 10\n",
              "794   da10db80-9687-11e9-bba5-076f63900c40                 10\n",
              "945   9b9824e0-19c2-11e9-8321-1350c9447565                 10\n",
              "1000  af6f4510-92bd-11e9-bc97-e75542746f87                 10\n",
              "1117  a9617ce0-5741-11e9-bcf5-3b398c242d19                 10\n",
              "1136  fdad4140-24c8-11e9-a868-f3184cf577d9                 10\n",
              "1157  fca5e030-5598-11e9-bcf5-3b398c242d19                 10\n",
              "1250  7a1b80c0-a89f-11e9-aa5e-8b8909b4f047                 10\n",
              "1712  ff600360-ac59-11e9-96d9-fb3253f8fc6c                 10\n",
              "1927  9bb373b0-5ddf-11e9-8084-55ce2049f05c                 10\n",
              "1995  05b39090-6eff-11e8-91b3-8d7b603ef3b8                 10"
            ]
          },
          "metadata": {
            "tags": []
          },
          "execution_count": 21
        }
      ]
    },
    {
      "cell_type": "markdown",
      "metadata": {
        "id": "A-YFvcwoCCBd"
      },
      "source": [
        "\n",
        "\n",
        "Now we can assume that with high probability individuals belonging to the same cluster are likely about the same real estate, nevertheless this can be not totally accurate as some real estates might be very similar but not the same, for example 3 parking lot spaces for rant can have the same surface area, the same price and many other similar features but are not the same parking lots in reality, which can compermise the accuracy of our clustering. \n",
        " \n",
        "**Possible improvments**\n",
        "\n",
        "\n",
        "\n",
        "*   Our first intuition is to do some feature engineering and label the data, putting us in the case of supervised learning in which we can do a much better job of classification using ensemble methods such as random forests , bagging, gradient boosting...etc, and the fact that there are a lot of easily interpretable metrics we can use in that case.\n",
        "*   A second approach could be by exploiting the \"DESCRIPTION\" feature in our dataframe and using some NLP magic we can theoratically create a probabilistic model returning based on description which ads are more likely to be about the same real estate.\n",
        "*   It will be better to insert all the transformations we did to the data frame and the later clustering into an scikit learn pipeline to avoid any unwanted problems.\n",
        "\n",
        "\n",
        "\n"
      ]
    }
  ]
}
